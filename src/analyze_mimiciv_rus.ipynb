{
 "cells": [
  {
   "cell_type": "code",
   "execution_count": 2,
   "metadata": {},
   "outputs": [],
   "source": [
    "import pickle\n",
    "import pandas as pd\n",
    "import torch\n",
    "import numpy as np"
   ]
  },
  {
   "cell_type": "code",
   "execution_count": 3,
   "metadata": {},
   "outputs": [],
   "source": [
    "mimiciv_preprocessed_path = \"/home/hhchung/MIMIC-IV-Data-Pipeline/XY_dl_data.pkl\"\n",
    "mimiciv_ditems_path = \"/mnt/d64c1162-08cc-4571-90a3-04c60b6f6f66/hhchung/mimic-code/data/mimiciv/3.1/icu/d_items.csv.gz\""
   ]
  },
  {
   "cell_type": "code",
   "execution_count": 4,
   "metadata": {},
   "outputs": [],
   "source": [
    "ditems = pd.read_csv(mimiciv_ditems_path, compression=\"gzip\")"
   ]
  },
  {
   "cell_type": "code",
   "execution_count": 5,
   "metadata": {},
   "outputs": [],
   "source": [
    "# make a dictionary of itemid to label\n",
    "itemid_to_label = dict(zip(ditems[\"itemid\"], ditems[\"label\"]))"
   ]
  },
  {
   "cell_type": "code",
   "execution_count": 6,
   "metadata": {},
   "outputs": [
    {
     "data": {
      "text/html": [
       "<div>\n",
       "<style scoped>\n",
       "    .dataframe tbody tr th:only-of-type {\n",
       "        vertical-align: middle;\n",
       "    }\n",
       "\n",
       "    .dataframe tbody tr th {\n",
       "        vertical-align: top;\n",
       "    }\n",
       "\n",
       "    .dataframe thead th {\n",
       "        text-align: right;\n",
       "    }\n",
       "</style>\n",
       "<table border=\"1\" class=\"dataframe\">\n",
       "  <thead>\n",
       "    <tr style=\"text-align: right;\">\n",
       "      <th></th>\n",
       "      <th>itemid</th>\n",
       "      <th>label</th>\n",
       "      <th>abbreviation</th>\n",
       "      <th>linksto</th>\n",
       "      <th>category</th>\n",
       "      <th>unitname</th>\n",
       "      <th>param_type</th>\n",
       "      <th>lownormalvalue</th>\n",
       "      <th>highnormalvalue</th>\n",
       "    </tr>\n",
       "  </thead>\n",
       "  <tbody>\n",
       "    <tr>\n",
       "      <th>0</th>\n",
       "      <td>220001</td>\n",
       "      <td>Problem List</td>\n",
       "      <td>Problem List</td>\n",
       "      <td>chartevents</td>\n",
       "      <td>General</td>\n",
       "      <td>NaN</td>\n",
       "      <td>Text</td>\n",
       "      <td>NaN</td>\n",
       "      <td>NaN</td>\n",
       "    </tr>\n",
       "    <tr>\n",
       "      <th>1</th>\n",
       "      <td>220003</td>\n",
       "      <td>ICU Admission date</td>\n",
       "      <td>ICU Admission date</td>\n",
       "      <td>datetimeevents</td>\n",
       "      <td>ADT</td>\n",
       "      <td>NaN</td>\n",
       "      <td>Date and time</td>\n",
       "      <td>NaN</td>\n",
       "      <td>NaN</td>\n",
       "    </tr>\n",
       "    <tr>\n",
       "      <th>2</th>\n",
       "      <td>220045</td>\n",
       "      <td>Heart Rate</td>\n",
       "      <td>HR</td>\n",
       "      <td>chartevents</td>\n",
       "      <td>Routine Vital Signs</td>\n",
       "      <td>bpm</td>\n",
       "      <td>Numeric</td>\n",
       "      <td>NaN</td>\n",
       "      <td>NaN</td>\n",
       "    </tr>\n",
       "    <tr>\n",
       "      <th>3</th>\n",
       "      <td>220046</td>\n",
       "      <td>Heart rate Alarm - High</td>\n",
       "      <td>HR Alarm - High</td>\n",
       "      <td>chartevents</td>\n",
       "      <td>Alarms</td>\n",
       "      <td>bpm</td>\n",
       "      <td>Numeric</td>\n",
       "      <td>NaN</td>\n",
       "      <td>NaN</td>\n",
       "    </tr>\n",
       "    <tr>\n",
       "      <th>4</th>\n",
       "      <td>220047</td>\n",
       "      <td>Heart Rate Alarm - Low</td>\n",
       "      <td>HR Alarm - Low</td>\n",
       "      <td>chartevents</td>\n",
       "      <td>Alarms</td>\n",
       "      <td>bpm</td>\n",
       "      <td>Numeric</td>\n",
       "      <td>NaN</td>\n",
       "      <td>NaN</td>\n",
       "    </tr>\n",
       "  </tbody>\n",
       "</table>\n",
       "</div>"
      ],
      "text/plain": [
       "   itemid                    label        abbreviation         linksto  \\\n",
       "0  220001             Problem List        Problem List     chartevents   \n",
       "1  220003       ICU Admission date  ICU Admission date  datetimeevents   \n",
       "2  220045               Heart Rate                  HR     chartevents   \n",
       "3  220046  Heart rate Alarm - High     HR Alarm - High     chartevents   \n",
       "4  220047   Heart Rate Alarm - Low      HR Alarm - Low     chartevents   \n",
       "\n",
       "              category unitname     param_type  lownormalvalue  \\\n",
       "0              General      NaN           Text             NaN   \n",
       "1                  ADT      NaN  Date and time             NaN   \n",
       "2  Routine Vital Signs      bpm        Numeric             NaN   \n",
       "3               Alarms      bpm        Numeric             NaN   \n",
       "4               Alarms      bpm        Numeric             NaN   \n",
       "\n",
       "   highnormalvalue  \n",
       "0              NaN  \n",
       "1              NaN  \n",
       "2              NaN  \n",
       "3              NaN  \n",
       "4              NaN  "
      ]
     },
     "execution_count": 6,
     "metadata": {},
     "output_type": "execute_result"
    }
   ],
   "source": [
    "ditems.head()"
   ]
  },
  {
   "cell_type": "code",
   "execution_count": 7,
   "metadata": {},
   "outputs": [],
   "source": [
    "mimiciv = pickle.load(open(mimiciv_preprocessed_path, \"rb\"))"
   ]
  },
  {
   "cell_type": "markdown",
   "metadata": {},
   "source": [
    "## Filter By Column"
   ]
  },
  {
   "cell_type": "code",
   "execution_count": 8,
   "metadata": {},
   "outputs": [
    {
     "name": "stdout",
     "output_type": "stream",
     "text": [
      "225158 NaCl 0.9% 0.353\n",
      "220949 Dextrose 5% 0.222\n",
      "225152 Heparin Sodium 0.089\n",
      "225943 Solution 0.065\n",
      "222168 Propofol 0.046\n",
      "225828 LR 0.041\n",
      "225823 D5 1/2NS 0.032\n",
      "228340 Furosemide (Lasix) 250/50 0.021\n",
      "223258 Insulin - Regular 0.021\n",
      "225936 Replete with Fiber (Full) 0.018\n"
     ]
    }
   ],
   "source": [
    "# find the dimensions/features/columns of the meds time series with the most non-zero values\n",
    "med_column_idx_sorted_by_nonzero_vals = torch.argsort((mimiciv[\"meds\"] != 0).sum(dim=[0, 1]), descending=True)\n",
    "\n",
    "num_selected_cols = 10\n",
    "for column_idx in med_column_idx_sorted_by_nonzero_vals[:num_selected_cols]:\n",
    "    column_num = int(mimiciv[\"keys_to_cols\"][\"MEDS\"][column_idx])\n",
    "    column_name = itemid_to_label[column_num]\n",
    "    batch_timeseries = mimiciv[\"meds\"][:, :, column_idx]\n",
    "    nonzero_ratio = (batch_timeseries != 0).sum(dim=[0, 1]) / batch_timeseries.shape[0] / batch_timeseries.shape[1]\n",
    "    print(column_num, column_name, round(nonzero_ratio.item(), 3))\n",
    "\n",
    "    "
   ]
  },
  {
   "cell_type": "code",
   "execution_count": 9,
   "metadata": {},
   "outputs": [
    {
     "name": "stdout",
     "output_type": "stream",
     "text": [
      "220045 Heart Rate 0.999\n",
      "220277 O2 saturation pulseoxymetry 0.999\n",
      "220046 Heart rate Alarm - High 0.997\n",
      "220047 Heart Rate Alarm - Low 0.997\n",
      "220210 Respiratory Rate 0.997\n",
      "223770 O2 Saturation Pulseoxymetry Alarm - Low 0.996\n",
      "224161 Resp Alarm - High 0.996\n",
      "223769 O2 Saturation Pulseoxymetry Alarm - High 0.996\n",
      "224162 Resp Alarm - Low 0.996\n",
      "223761 Temperature Fahrenheit 0.995\n",
      "226253 SpO2 Desat Limit 0.995\n",
      "220645 Sodium (serum) 0.992\n",
      "227442 Potassium (serum) 0.992\n",
      "220602 Chloride (serum) 0.992\n",
      "225624 BUN 0.992\n",
      "227443 HCO3 (serum) 0.992\n",
      "220621 Glucose (serum) 0.992\n",
      "227073 Anion gap 0.992\n",
      "220545 Hematocrit (serum) 0.99\n",
      "220635 Magnesium 0.99\n"
     ]
    }
   ],
   "source": [
    "# find the dimensions/features/columns of the chart time series with the most non-zero values\n",
    "chart_column_idx_sorted_by_nonzero_vals = torch.argsort((mimiciv[\"chart\"] != 0).sum(dim=[0, 1]), descending=True)\n",
    "\n",
    "num_selected_cols = 20\n",
    "for column_idx in chart_column_idx_sorted_by_nonzero_vals[:num_selected_cols]:\n",
    "    column_num = int(mimiciv[\"keys_to_cols\"][\"CHART\"][column_idx])\n",
    "    column_name = itemid_to_label[column_num]\n",
    "    batch_timeseries = mimiciv[\"chart\"][:, :, column_idx]\n",
    "    nonzero_ratio = (batch_timeseries != 0).sum(dim=[0, 1]) / batch_timeseries.shape[0] / batch_timeseries.shape[1]\n",
    "    print(column_num, column_name, round(nonzero_ratio.item(), 3))\n",
    "\n",
    "    "
   ]
  },
  {
   "cell_type": "markdown",
   "metadata": {},
   "source": [
    "### Asked ChatGPT o3 does any of the medications have causal effects on any of the chart events\n",
    "* Regular insulin\n",
    "    * Glucose (serum)\n",
    "    * Potassium (serum)\n",
    "* Furosemide (Lasix)\n",
    "    * Potassium (serum)\n",
    "    * Magnesium (serum)\n",
    "    * BUN\n",
    "* 0.9% Sodium Chloride\n",
    "    * Sodium (serum)\n",
    "    * Chloride (serum)\n",
    "* 5% Dextrose in water (D5W)\n",
    "    * Glucose (serum)\n",
    "    * Sodium (serum)\n",
    "* Heparin (continuous />= 4 days)\n",
    "    * Potassium (serum)\n",
    "* Propofol infusion\n",
    "    * Respiratory rate\n",
    "    * O2 Saturation\n",
    "* Lactated Ringer's (LR)\n",
    "    * Bicarbonate\n",
    "    * Potassium\n",
    "\n",
    "Therefore, we pick the following chart events:\n",
    "* Glucose (serum)\n",
    "* Potassium (serum)\n",
    "* Magnesium (serum)\n",
    "* BUN\n",
    "\n",
    "and the following medications:\n",
    "* Regular insulin\n",
    "* Furosemide (Lasix)"
   ]
  },
  {
   "cell_type": "code",
   "execution_count": 10,
   "metadata": {},
   "outputs": [],
   "source": [
    "selected_med_column_nums = [223258, # insulin\n",
    "                            228340, # furosemide (lasix)\n",
    "                            # 225158, # 0.9% sodium chloride,\n",
    "                            # 220949, # 5% dextrose in water (d5w)\n",
    "                            # 225152, # heparin (continuous >= 4 days)\n",
    "                            # 222168, # propofol infusion\n",
    "                            # 225828, # lactated ringer's (lr)\n",
    "                            ]\n",
    "\n",
    "selected_chart_column_nums = [220621, # glucose (serum)\n",
    "                              227442, # potassium (serum)\n",
    "                              220635, # magnesium (serum)\n",
    "                              225624, # BUN\n",
    "                            #   220645, # sodium (serum)\n",
    "                            #   220602, # chloride (serum)\n",
    "                            #   220210, # respiratory rate\n",
    "                            #   220277, # o2 saturation\n",
    "                            #   227443, # bicarbonate (hco3)\n",
    "                            #   227442, # pottasium (serum)\n",
    "                              ]\n",
    "\n"
   ]
  },
  {
   "cell_type": "markdown",
   "metadata": {},
   "source": [
    "## Check MIMIC-IV RUS Results\n",
    "**Q**: Which ones of the following have a stronger effect on a person's Potassium level few hours later? How would you rank them: Insulin medication, Furosemide medication, current Glucose level, current Potassium level, current Magnesium level, and current Blood Urea Nitrogen (BUN)?\n",
    "\n",
    "\n",
    "**A (ChatGPT o3)**:\n",
    "\n",
    "Quick ranking for their influence on serum potassium over the next few hours\n",
    "(strongest → weakest, assuming an otherwise-stable adult with normal kidneys and acid-base status):\n",
    "\n",
    "1. Insulin medication\n",
    "\n",
    "2. Current serum potassium concentration itself\n",
    "\n",
    "3. Furosemide (loop-diuretic) dose\n",
    "\n",
    "4. Current glucose level\n",
    "\n",
    "5. Current magnesium level\n",
    "\n",
    "6. Current blood urea nitrogen (BUN)\n",
    "\n",
    "\n",
    "\n",
    "\n",
    "\n"
   ]
  },
  {
   "cell_type": "code",
   "execution_count": 11,
   "metadata": {},
   "outputs": [],
   "source": [
    "mimiciv_rus_results = np.load(\"../results/mimiciv/mimiciv_lag6_bins8_thresh0.3.npy\", allow_pickle=True)\n"
   ]
  },
  {
   "cell_type": "code",
   "execution_count": 12,
   "metadata": {},
   "outputs": [
    {
     "data": {
      "text/plain": [
       "array([{'feature_pair': ('Insulin - Regular', 'Furosemide (Lasix) 250/50'), 'lag': 1, 'dominant_term': 'U1', 'R_value': np.float64(0.05823217651439122), 'U1_value': np.float64(0.16768299611863904), 'U2_value': np.float64(3.483038856699689e-08), 'S_value': np.float64(0.16398752686165957), 'MI_value': np.float64(0.38990273432507866)},\n",
       "       {'feature_pair': ('Insulin - Regular', 'Furosemide (Lasix) 250/50'), 'lag': 2, 'dominant_term': 'U1', 'R_value': np.float64(0.04292269726383163), 'U1_value': np.float64(0.20691338251675262), 'U2_value': np.float64(4.8013916188512935e-08), 'S_value': np.float64(0.14777069391400488), 'MI_value': np.float64(0.39760682170850503)},\n",
       "       {'feature_pair': ('Insulin - Regular', 'Furosemide (Lasix) 250/50'), 'lag': 3, 'dominant_term': 'U1', 'R_value': np.float64(0.02977073397945873), 'U1_value': np.float64(0.3097256486023837), 'U2_value': np.float64(4.736179194982763e-08), 'S_value': np.float64(0.13581835170862006), 'MI_value': np.float64(0.47531478165225444)},\n",
       "       {'feature_pair': ('Insulin - Regular', 'Furosemide (Lasix) 250/50'), 'lag': 4, 'dominant_term': 'U1', 'R_value': np.float64(0.018819873735179626), 'U1_value': np.float64(0.2995715615327497), 'U2_value': np.float64(3.679783139313422e-08), 'S_value': np.float64(0.126185278449497), 'MI_value': np.float64(0.4445767505152568)},\n",
       "       {'feature_pair': ('Insulin - Regular', 'Furosemide (Lasix) 250/50'), 'lag': 5, 'dominant_term': 'U1', 'R_value': np.float64(0.010174826073988286), 'U1_value': np.float64(0.301380239096341), 'U2_value': np.float64(3.242021427177051e-08), 'S_value': np.float64(0.06049123067497719), 'MI_value': np.float64(0.37204632826552064)},\n",
       "       {'feature_pair': ('Insulin - Regular', 'Furosemide (Lasix) 250/50'), 'lag': 6, 'dominant_term': 'U1', 'R_value': np.float64(0.004009613786214727), 'U1_value': np.float64(0.35251439342065355), 'U2_value': np.float64(4.668858919787993e-08), 'S_value': np.float64(0.026717579278559278), 'MI_value': np.float64(0.3832416331740161)}],\n",
       "      dtype=object)"
      ]
     },
     "execution_count": 12,
     "metadata": {},
     "output_type": "execute_result"
    }
   ],
   "source": [
    "mimiciv_rus_results[0:6]"
   ]
  },
  {
   "cell_type": "code",
   "execution_count": 13,
   "metadata": {},
   "outputs": [
    {
     "data": {
      "text/plain": [
       "array([{'feature_pair': ('Insulin - Regular', 'Glucose (serum)'), 'lag': 1, 'dominant_term': 'R', 'R_value': np.float64(0.20780064333731002), 'U1_value': np.float64(0.018114356791668697), 'U2_value': np.float64(0.07947490669120306), 'S_value': np.float64(0.19250119449468417), 'MI_value': np.float64(0.49789110131486575)},\n",
       "       {'feature_pair': ('Insulin - Regular', 'Glucose (serum)'), 'lag': 2, 'dominant_term': 'R', 'R_value': np.float64(0.20234711227717744), 'U1_value': np.float64(0.04748900255380732), 'U2_value': np.float64(0.015939102143994174), 'S_value': np.float64(0.19124422021009208), 'MI_value': np.float64(0.4570194371850717)},\n",
       "       {'feature_pair': ('Insulin - Regular', 'Glucose (serum)'), 'lag': 3, 'dominant_term': 'R', 'R_value': np.float64(0.16435925045774968), 'U1_value': np.float64(0.17513718840556725), 'U2_value': np.float64(1.009634525844082e-07), 'S_value': np.float64(0.1696525192583821), 'MI_value': np.float64(0.5091490590851517)},\n",
       "       {'feature_pair': ('Insulin - Regular', 'Glucose (serum)'), 'lag': 4, 'dominant_term': 'U1', 'R_value': np.float64(0.12092699589492212), 'U1_value': np.float64(0.19746444257241064), 'U2_value': np.float64(9.761808818517684e-08), 'S_value': np.float64(0.1981644105185883), 'MI_value': np.float64(0.5165559466040083)},\n",
       "       {'feature_pair': ('Insulin - Regular', 'Glucose (serum)'), 'lag': 5, 'dominant_term': 'U1', 'R_value': np.float64(0.08605760697793274), 'U1_value': np.float64(0.22549746425355918), 'U2_value': np.float64(9.88475796011586e-08), 'S_value': np.float64(0.16204530503599507), 'MI_value': np.float64(0.47360047511506603)},\n",
       "       {'feature_pair': ('Insulin - Regular', 'Glucose (serum)'), 'lag': 6, 'dominant_term': 'U1', 'R_value': np.float64(0.05883370449714426), 'U1_value': np.float64(0.2976903659459262), 'U2_value': np.float64(9.076196235445933e-08), 'S_value': np.float64(0.1807960503624041), 'MI_value': np.float64(0.5373202115674376)}],\n",
       "      dtype=object)"
      ]
     },
     "execution_count": 13,
     "metadata": {},
     "output_type": "execute_result"
    }
   ],
   "source": [
    "mimiciv_rus_results[6:12]"
   ]
  },
  {
   "cell_type": "code",
   "execution_count": 14,
   "metadata": {},
   "outputs": [
    {
     "data": {
      "text/plain": [
       "array([{'feature_pair': ('Insulin - Regular', 'Potassium (serum)'), 'lag': 1, 'dominant_term': 'R', 'R_value': np.float64(0.20278101838852425), 'U1_value': np.float64(0.023133962041346618), 'U2_value': np.float64(0.18134933711645404), 'S_value': np.float64(0.08448422588981686), 'MI_value': np.float64(0.49174854343614094)},\n",
       "       {'feature_pair': ('Insulin - Regular', 'Potassium (serum)'), 'lag': 2, 'dominant_term': 'R', 'R_value': np.float64(0.20089035777235975), 'U1_value': np.float64(0.04894559849013522), 'U2_value': np.float64(0.05528630165606725), 'S_value': np.float64(0.1383504538129363), 'MI_value': np.float64(0.44347271173150005)},\n",
       "       {'feature_pair': ('Insulin - Regular', 'Potassium (serum)'), 'lag': 3, 'dominant_term': 'R', 'R_value': np.float64(0.16094476023035215), 'U1_value': np.float64(0.1785516425059096), 'U2_value': np.float64(5.744881545844255e-08), 'S_value': np.float64(0.14690267960596465), 'MI_value': np.float64(0.4863991397910409)},\n",
       "       {'feature_pair': ('Insulin - Regular', 'Potassium (serum)'), 'lag': 4, 'dominant_term': 'U1', 'R_value': np.float64(0.08980966363813658), 'U1_value': np.float64(0.22858167375774066), 'U2_value': np.float64(6.094428612762064e-08), 'S_value': np.float64(0.16340617797550505), 'MI_value': np.float64(0.48179757631566955)},\n",
       "       {'feature_pair': ('Insulin - Regular', 'Potassium (serum)'), 'lag': 5, 'dominant_term': 'U1', 'R_value': np.float64(0.03959335024037858), 'U1_value': np.float64(0.27196163465021467), 'U2_value': np.float64(4.581556155307263e-08), 'S_value': np.float64(0.110115788645059), 'MI_value': np.float64(0.421670819351214)},\n",
       "       {'feature_pair': ('Insulin - Regular', 'Potassium (serum)'), 'lag': 6, 'dominant_term': 'U1', 'R_value': np.float64(0.009431250928660262), 'U1_value': np.float64(0.3470928156052717), 'U2_value': np.float64(2.704156407409733e-08), 'S_value': np.float64(0.09399873140628556), 'MI_value': np.float64(0.45052282498178137)}],\n",
       "      dtype=object)"
      ]
     },
     "execution_count": 14,
     "metadata": {},
     "output_type": "execute_result"
    }
   ],
   "source": [
    "mimiciv_rus_results[12:18]"
   ]
  },
  {
   "cell_type": "code",
   "execution_count": 15,
   "metadata": {},
   "outputs": [
    {
     "data": {
      "text/plain": [
       "array([{'feature_pair': ('Insulin - Regular', 'Magnesium'), 'lag': 1, 'dominant_term': 'R', 'R_value': np.float64(0.16755070657927576), 'U1_value': np.float64(0.05836427550114074), 'U2_value': np.float64(1.8442526671435272e-07), 'S_value': np.float64(0.03969163521191307), 'MI_value': np.float64(0.26560680171759715)},\n",
       "       {'feature_pair': ('Insulin - Regular', 'Magnesium'), 'lag': 2, 'dominant_term': 'R', 'R_value': np.float64(0.16517796545700103), 'U1_value': np.float64(0.08465812755317068), 'U2_value': np.float64(1.2343090410782842e-07), 'S_value': np.float64(0.03846816296854072), 'MI_value': np.float64(0.28830437940961695)},\n",
       "       {'feature_pair': ('Insulin - Regular', 'Magnesium'), 'lag': 3, 'dominant_term': 'R', 'R_value': np.float64(0.16265353566830998), 'U1_value': np.float64(0.17684275720641437), 'U2_value': np.float64(1.2527558371478833e-07), 'S_value': np.float64(0.04009844069914836), 'MI_value': np.float64(0.37959485884945643)},\n",
       "       {'feature_pair': ('Insulin - Regular', 'Magnesium'), 'lag': 4, 'dominant_term': 'R', 'R_value': np.float64(0.15996790247317022), 'U1_value': np.float64(0.15842348922685123), 'U2_value': np.float64(1.3764969811953152e-07), 'S_value': np.float64(0.04530036363039541), 'MI_value': np.float64(0.36369189298011406)},\n",
       "       {'feature_pair': ('Insulin - Regular', 'Magnesium'), 'lag': 5, 'dominant_term': 'R', 'R_value': np.float64(0.1571106318132403), 'U1_value': np.float64(0.15444433529764154), 'U2_value': np.float64(6.292801981495878e-08), 'S_value': np.float64(0.06262909879182682), 'MI_value': np.float64(0.3741841288307285)},\n",
       "       {'feature_pair': ('Insulin - Regular', 'Magnesium'), 'lag': 6, 'dominant_term': 'R', 'R_value': np.float64(0.15407046387024786), 'U1_value': np.float64(0.2024534731870877), 'U2_value': np.float64(1.2000818360767994e-07), 'S_value': np.float64(0.0976589583376512), 'MI_value': np.float64(0.45418301540317096)}],\n",
       "      dtype=object)"
      ]
     },
     "execution_count": 15,
     "metadata": {},
     "output_type": "execute_result"
    }
   ],
   "source": [
    "mimiciv_rus_results[18:24]"
   ]
  },
  {
   "cell_type": "code",
   "execution_count": 16,
   "metadata": {},
   "outputs": [
    {
     "data": {
      "text/plain": [
       "array([{'feature_pair': ('Insulin - Regular', 'BUN'), 'lag': 1, 'dominant_term': 'R', 'R_value': np.float64(0.18537168706120588), 'U1_value': np.float64(0.04054339271419252), 'U2_value': np.float64(0.022594158447576892), 'S_value': np.float64(0.20198667527433722), 'MI_value': np.float64(0.45049591349731244)},\n",
       "       {'feature_pair': ('Insulin - Regular', 'BUN'), 'lag': 2, 'dominant_term': 'U1', 'R_value': np.float64(0.11774765298690099), 'U1_value': np.float64(0.13208843801282497), 'U2_value': np.float64(6.772380083429353e-08), 'S_value': np.float64(0.15911101653231313), 'MI_value': np.float64(0.4089471752558391)},\n",
       "       {'feature_pair': ('Insulin - Regular', 'BUN'), 'lag': 3, 'dominant_term': 'U1', 'R_value': np.float64(0.056294842479980345), 'U1_value': np.float64(0.28320160352118423), 'U2_value': np.float64(4.6275105604772246e-08), 'S_value': np.float64(0.12088360543139881), 'MI_value': np.float64(0.4603800977076694)},\n",
       "       {'feature_pair': ('Insulin - Regular', 'BUN'), 'lag': 4, 'dominant_term': 'U1', 'R_value': np.float64(0.01793386978726591), 'U1_value': np.float64(0.3004575582233188), 'U2_value': np.float64(4.564915368462177e-08), 'S_value': np.float64(0.14867832095829436), 'MI_value': np.float64(0.46706979461803355)},\n",
       "       {'feature_pair': ('Insulin - Regular', 'BUN'), 'lag': 5, 'dominant_term': 'U1', 'R_value': np.float64(0.001616026656533931), 'U1_value': np.float64(0.30993900192081353), 'U2_value': np.float64(4.0065718031373166e-08), 'S_value': np.float64(0.11182065520265294), 'MI_value': np.float64(0.4233757238457184)},\n",
       "       {'feature_pair': ('Insulin - Regular', 'BUN'), 'lag': 6, 'dominant_term': 'U1', 'R_value': np.float64(0.009469983269669302), 'U1_value': np.float64(0.3470541378366712), 'U2_value': np.float64(3.186715682560872e-08), 'S_value': np.float64(0.12981032624475414), 'MI_value': np.float64(0.48633447921825157)}],\n",
       "      dtype=object)"
      ]
     },
     "execution_count": 16,
     "metadata": {},
     "output_type": "execute_result"
    }
   ],
   "source": [
    "mimiciv_rus_results[24:30]"
   ]
  },
  {
   "cell_type": "code",
   "execution_count": 17,
   "metadata": {},
   "outputs": [
    {
     "data": {
      "text/plain": [
       "array([{'feature_pair': ('Furosemide (Lasix) 250/50', 'Glucose (serum)'), 'lag': 1, 'dominant_term': 'U2', 'R_value': np.float64(0.05823218707137051), 'U1_value': np.float64(5.164196877488814e-09), 'U2_value': np.float64(0.22904321742169995), 'S_value': np.float64(1.782501396485614e-08), 'MI_value': np.float64(0.28727542748228146)},\n",
       "       {'feature_pair': ('Furosemide (Lasix) 250/50', 'Glucose (serum)'), 'lag': 2, 'dominant_term': 'U2', 'R_value': np.float64(0.04292271283075921), 'U1_value': np.float64(5.295312344480277e-09), 'U2_value': np.float64(0.17536343293675913), 'S_value': np.float64(1.9728246120065407e-08), 'MI_value': np.float64(0.21828617079107696)},\n",
       "       {'feature_pair': ('Furosemide (Lasix) 250/50', 'Glucose (serum)'), 'lag': 3, 'dominant_term': 'U2', 'R_value': np.float64(0.029770751078713048), 'U1_value': np.float64(4.2633834617302645e-09), 'U2_value': np.float64(0.13458857371108537), 'S_value': np.float64(1.3705570678368417e-08), 'MI_value': np.float64(0.1643593427587528)},\n",
       "       {'feature_pair': ('Furosemide (Lasix) 250/50', 'Glucose (serum)'), 'lag': 4, 'dominant_term': 'U2', 'R_value': np.float64(0.018819884146722754), 'U1_value': np.float64(6.1754095805352546e-09), 'U2_value': np.float64(0.10210717946411937), 'S_value': np.float64(1.2138515553816731e-08), 'MI_value': np.float64(0.1209270819247672)},\n",
       "       {'feature_pair': ('Furosemide (Lasix) 250/50', 'Glucose (serum)'), 'lag': 5, 'dominant_term': 'U2', 'R_value': np.float64(0.010174835959130366), 'U1_value': np.float64(4.09318886324325e-09), 'U2_value': np.float64(0.07588283572241375), 'S_value': np.float64(8.810144683235599e-09), 'MI_value': np.float64(0.08605768458487749)},\n",
       "       {'feature_pair': ('Furosemide (Lasix) 250/50', 'Glucose (serum)'), 'lag': 6, 'dominant_term': 'U2', 'R_value': np.float64(0.004009629772660672), 'U1_value': np.float64(8.1656181503727e-09), 'U2_value': np.float64(0.05482412961368216), 'S_value': np.float64(1.484081604136156e-08), 'MI_value': np.float64(0.0588337823927771)}],\n",
       "      dtype=object)"
      ]
     },
     "execution_count": 17,
     "metadata": {},
     "output_type": "execute_result"
    }
   ],
   "source": [
    "mimiciv_rus_results[30:36]"
   ]
  },
  {
   "cell_type": "code",
   "execution_count": 18,
   "metadata": {},
   "outputs": [
    {
     "data": {
      "text/plain": [
       "array([{'feature_pair': ('Furosemide (Lasix) 250/50', 'Potassium (serum)'), 'lag': 1, 'dominant_term': 'U2', 'R_value': np.float64(0.058232191140698), 'U1_value': np.float64(3.1894620387739668e-12), 'U2_value': np.float64(0.32589796156171297), 'S_value': np.float64(0.008484392625600246), 'MI_value': np.float64(0.3926145453312005)},\n",
       "       {'feature_pair': ('Furosemide (Lasix) 250/50', 'Potassium (serum)'), 'lag': 2, 'dominant_term': 'U2', 'R_value': np.float64(0.0429227162671586), 'U1_value': np.float64(2.159234539801525e-11), 'U2_value': np.float64(0.21325377282834412), 'S_value': np.float64(0.016773023170265577), 'MI_value': np.float64(0.27294951228736086)},\n",
       "       {'feature_pair': ('Furosemide (Lasix) 250/50', 'Potassium (serum)'), 'lag': 3, 'dominant_term': 'U2', 'R_value': np.float64(0.029770755209792), 'U1_value': np.float64(3.871608071016679e-11), 'U2_value': np.float64(0.13117402820357163), 'S_value': np.float64(0.02497021136693811), 'MI_value': np.float64(0.185914994819018)},\n",
       "       {'feature_pair': ('Furosemide (Lasix) 250/50', 'Potassium (serum)'), 'lag': 4, 'dominant_term': 'U2', 'R_value': np.float64(0.018819889180314936), 'U1_value': np.float64(5.012352821644357e-11), 'U2_value': np.float64(0.0709897987756569), 'S_value': np.float64(0.03333197782319022), 'MI_value': np.float64(0.12314166582928554)},\n",
       "       {'feature_pair': ('Furosemide (Lasix) 250/50', 'Potassium (serum)'), 'lag': 5, 'dominant_term': 'U2', 'R_value': np.float64(0.010174838211478993), 'U1_value': np.float64(1.3674916113071356e-10), 'U2_value': np.float64(0.029418529606023813), 'S_value': np.float64(0.04249484236667701), 'MI_value': np.float64(0.08208821032092882)},\n",
       "       {'feature_pair': ('Furosemide (Lasix) 250/50', 'Potassium (serum)'), 'lag': 6, 'dominant_term': 'S', 'R_value': np.float64(0.004009635807710719), 'U1_value': np.float64(1.1543525071416939e-10), 'U2_value': np.float64(0.005421630630795106), 'S_value': np.float64(0.05431514504767769), 'MI_value': np.float64(0.06374641160161876)}],\n",
       "      dtype=object)"
      ]
     },
     "execution_count": 18,
     "metadata": {},
     "output_type": "execute_result"
    }
   ],
   "source": [
    "mimiciv_rus_results[36:42]"
   ]
  },
  {
   "cell_type": "code",
   "execution_count": 19,
   "metadata": {},
   "outputs": [
    {
     "data": {
      "text/plain": [
       "array([{'feature_pair': ('Furosemide (Lasix) 250/50', 'Magnesium'), 'lag': 1, 'dominant_term': 'U2', 'R_value': np.float64(0.055124554368533224), 'U1_value': np.float64(0.0031076374057697653), 'U2_value': np.float64(0.1124262780385782), 'S_value': np.float64(0.12490987724540878), 'MI_value': np.float64(0.29556834705828977)},\n",
       "       {'feature_pair': ('Furosemide (Lasix) 250/50', 'Magnesium'), 'lag': 2, 'dominant_term': 'U2', 'R_value': np.float64(0.04214132040332888), 'U1_value': np.float64(0.0007813950302704558), 'U2_value': np.float64(0.12303673052918748), 'S_value': np.float64(0.08578375041920419), 'MI_value': np.float64(0.25174319638199116)},\n",
       "       {'feature_pair': ('Furosemide (Lasix) 250/50', 'Magnesium'), 'lag': 3, 'dominant_term': 'U2', 'R_value': np.float64(0.029770749411212855), 'U1_value': np.float64(4.165177191962838e-09), 'U2_value': np.float64(0.13288288599832654), 'S_value': np.float64(0.05508655855206601), 'MI_value': np.float64(0.21774019812678233)},\n",
       "       {'feature_pair': ('Furosemide (Lasix) 250/50', 'Magnesium'), 'lag': 4, 'dominant_term': 'U2', 'R_value': np.float64(0.01881988709622523), 'U1_value': np.float64(2.51473775475017e-11), 'U2_value': np.float64(0.14114809637533002), 'S_value': np.float64(0.03132579714512995), 'MI_value': np.float64(0.19129378064183228)},\n",
       "       {'feature_pair': ('Furosemide (Lasix) 250/50', 'Magnesium'), 'lag': 5, 'dominant_term': 'U2', 'R_value': np.float64(0.01017483778409392), 'U1_value': np.float64(2.1438461179923674e-10), 'U2_value': np.float64(0.14693584392180592), 'S_value': np.float64(0.014394095078673924), 'MI_value': np.float64(0.17150477699895825)},\n",
       "       {'feature_pair': ('Furosemide (Lasix) 250/50', 'Magnesium'), 'lag': 6, 'dominant_term': 'U2', 'R_value': np.float64(0.004009634208277352), 'U1_value': np.float64(2.7857369281101537e-10), 'U2_value': np.float64(0.15006090521412768), 'S_value': np.float64(0.003960966753761425), 'MI_value': np.float64(0.15803150645474012)}],\n",
       "      dtype=object)"
      ]
     },
     "execution_count": 19,
     "metadata": {},
     "output_type": "execute_result"
    }
   ],
   "source": [
    "mimiciv_rus_results[42:48]"
   ]
  },
  {
   "cell_type": "code",
   "execution_count": 20,
   "metadata": {},
   "outputs": [
    {
     "data": {
      "text/plain": [
       "array([{'feature_pair': ('Furosemide (Lasix) 250/50', 'BUN'), 'lag': 1, 'dominant_term': 'U2', 'R_value': np.float64(0.058232187927324736), 'U1_value': np.float64(5.125675806442544e-09), 'U2_value': np.float64(0.1497334765201467), 'S_value': np.float64(0.1939857829054322), 'MI_value': np.float64(0.40195145247857966)},\n",
       "       {'feature_pair': ('Furosemide (Lasix) 250/50', 'BUN'), 'lag': 2, 'dominant_term': 'S', 'R_value': np.float64(0.04292271306980992), 'U1_value': np.float64(5.935605754676513e-09), 'U2_value': np.float64(0.07482496082052038), 'S_value': np.float64(0.17475630292192157), 'MI_value': np.float64(0.2925039827478575)},\n",
       "       {'feature_pair': ('Furosemide (Lasix) 250/50', 'BUN'), 'lag': 3, 'dominant_term': 'S', 'R_value': np.float64(0.029770751888562895), 'U1_value': np.float64(4.2381455691073805e-09), 'U2_value': np.float64(0.026524106729048508), 'S_value': np.float64(0.16039851202660366), 'MI_value': np.float64(0.2166933748823609)},\n",
       "       {'feature_pair': ('Furosemide (Lasix) 250/50', 'BUN'), 'lag': 4, 'dominant_term': 'S', 'R_value': np.float64(0.01575865801009289), 'U1_value': np.float64(0.0030612338435674993), 'U2_value': np.float64(0.0021752259689949687), 'S_value': np.float64(0.14530862738237021), 'MI_value': np.float64(0.1663037452050257)},\n",
       "       {'feature_pair': ('Furosemide (Lasix) 250/50', 'BUN'), 'lag': 5, 'dominant_term': 'S', 'R_value': np.float64(0.0016160405583532048), 'U1_value': np.float64(0.008558801134346079), 'U2_value': np.float64(4.174167725992884e-10), 'S_value': np.float64(0.1288091629756997), 'MI_value': np.float64(0.13898400508581557)},\n",
       "       {'feature_pair': ('Furosemide (Lasix) 250/50', 'BUN'), 'lag': 6, 'dominant_term': 'S', 'R_value': np.float64(0.003093494296484242), 'U1_value': np.float64(0.0009161455272417364), 'U2_value': np.float64(0.006376498956423272), 'S_value': np.float64(0.12557996462449464), 'MI_value': np.float64(0.13596610340464407)}],\n",
       "      dtype=object)"
      ]
     },
     "execution_count": 20,
     "metadata": {},
     "output_type": "execute_result"
    }
   ],
   "source": [
    "mimiciv_rus_results[48:54]"
   ]
  },
  {
   "cell_type": "code",
   "execution_count": 21,
   "metadata": {},
   "outputs": [
    {
     "data": {
      "text/plain": [
       "array([{'feature_pair': ('Glucose (serum)', 'Potassium (serum)'), 'lag': 1, 'dominant_term': 'R', 'R_value': np.float64(0.27818507702305717), 'U1_value': np.float64(0.009090306048852324), 'U2_value': np.float64(0.10594508712153186), 'S_value': np.float64(-3.426292644048701e-08), 'MI_value': np.float64(0.39322043593051453)},\n",
       "       {'feature_pair': ('Glucose (serum)', 'Potassium (serum)'), 'lag': 2, 'dominant_term': 'R', 'R_value': np.float64(0.20021405225962374), 'U1_value': np.float64(0.01807208461547564), 'U2_value': np.float64(0.055962447238467494), 'S_value': np.float64(-3.2366104463221745e-08), 'MI_value': np.float64(0.2742485517474621)},\n",
       "       {'feature_pair': ('Glucose (serum)', 'Potassium (serum)'), 'lag': 3, 'dominant_term': 'R', 'R_value': np.float64(0.13729284887687765), 'U1_value': np.float64(0.027066446708354626), 'U2_value': np.float64(0.023651946429922965), 'S_value': np.float64(-3.561276112895584e-08), 'MI_value': np.float64(0.18801120640239422)},\n",
       "       {'feature_pair': ('Glucose (serum)', 'Potassium (serum)'), 'lag': 4, 'dominant_term': 'R', 'R_value': np.float64(0.08457646133381413), 'U1_value': np.float64(0.03635059622844843), 'U2_value': np.float64(0.00523322980129179), 'S_value': np.float64(-9.55139714542419e-09), 'MI_value': np.float64(0.12616027781215716)},\n",
       "       {'feature_pair': ('Glucose (serum)', 'Potassium (serum)'), 'lag': 5, 'dominant_term': 'R', 'R_value': np.float64(0.039593365319416984), 'U1_value': np.float64(0.046464306555697485), 'U2_value': np.float64(3.933011659943161e-09), 'S_value': np.float64(0.00012399764490092502), 'MI_value': np.float64(0.08618167345302716)},\n",
       "       {'feature_pair': ('Glucose (serum)', 'Potassium (serum)'), 'lag': 6, 'dominant_term': 'U1', 'R_value': np.float64(0.009431260838254386), 'U1_value': np.float64(0.049402504844754974), 'U2_value': np.float64(5.584715442296937e-09), 'S_value': np.float64(0.010268955497782416), 'MI_value': np.float64(0.06910272676550704)}],\n",
       "      dtype=object)"
      ]
     },
     "execution_count": 21,
     "metadata": {},
     "output_type": "execute_result"
    }
   ],
   "source": [
    "mimiciv_rus_results[54:60]"
   ]
  },
  {
   "cell_type": "code",
   "execution_count": 22,
   "metadata": {},
   "outputs": [
    {
     "data": {
      "text/plain": [
       "array([{'feature_pair': ('Glucose (serum)', 'Magnesium'), 'lag': 1, 'dominant_term': 'R', 'R_value': np.float64(0.15145556647699537), 'U1_value': np.float64(0.13581985083902798), 'U2_value': np.float64(0.01609529363035023), 'S_value': np.float64(0.022447912051701435), 'MI_value': np.float64(0.32581862299807485)},\n",
       "       {'feature_pair': ('Glucose (serum)', 'Magnesium'), 'lag': 2, 'dominant_term': 'R', 'R_value': np.float64(0.13110112176177413), 'U1_value': np.float64(0.0871850373284415), 'U2_value': np.float64(0.03407692849643268), 'S_value': np.float64(0.014608341453498652), 'MI_value': np.float64(0.2669714290401469)},\n",
       "       {'feature_pair': ('Glucose (serum)', 'Magnesium'), 'lag': 3, 'dominant_term': 'R', 'R_value': np.float64(0.10927274958501398), 'U1_value': np.float64(0.05508657734760589), 'U2_value': np.float64(0.05338089070253391), 'S_value': np.float64(0.006400774229169348), 'MI_value': np.float64(0.22414099186432318)},\n",
       "       {'feature_pair': ('Glucose (serum)', 'Magnesium'), 'lag': 4, 'dominant_term': 'R', 'R_value': np.float64(0.08960125160329213), 'U1_value': np.float64(0.0313258186361091), 'U2_value': np.float64(0.07036673205583897), 'S_value': np.float64(0.0016101880924963563), 'MI_value': np.float64(0.19290399038773676)},\n",
       "       {'feature_pair': ('Glucose (serum)', 'Magnesium'), 'lag': 5, 'dominant_term': 'R', 'R_value': np.float64(0.07166357349628799), 'U1_value': np.float64(0.014394104529467345), 'U2_value': np.float64(0.08544711173717041), 'S_value': np.float64(4.324371386227321e-06), 'MI_value': np.float64(0.17150911413431166)},\n",
       "       {'feature_pair': ('Glucose (serum)', 'Magnesium'), 'lag': 6, 'dominant_term': 'R', 'R_value': np.float64(0.054872786938862717), 'U1_value': np.float64(0.003960982661780268), 'U2_value': np.float64(0.09919776007084453), 'S_value': np.float64(0.0012376080514711063), 'MI_value': np.float64(0.15926913772295903)}],\n",
       "      dtype=object)"
      ]
     },
     "execution_count": 22,
     "metadata": {},
     "output_type": "execute_result"
    }
   ],
   "source": [
    "mimiciv_rus_results[60:66]"
   ]
  },
  {
   "cell_type": "code",
   "execution_count": 23,
   "metadata": {},
   "outputs": [
    {
     "data": {
      "text/plain": [
       "array([{'feature_pair': ('Glucose (serum)', 'BUN'), 'lag': 1, 'dominant_term': 'R', 'R_value': np.float64(0.20551051031635975), 'U1_value': np.float64(0.08176487501991478), 'U2_value': np.float64(0.002455171955120792), 'S_value': np.float64(0.11238372529315122), 'MI_value': np.float64(0.4021142825845466)},\n",
       "       {'feature_pair': ('Glucose (serum)', 'BUN'), 'lag': 2, 'dominant_term': 'R', 'R_value': np.float64(0.11774767214466048), 'U1_value': np.float64(0.10053848650516868), 'U2_value': np.float64(4.3909998291502544e-09), 'S_value': np.float64(0.0745747359673451), 'MI_value': np.float64(0.2928608990081742)},\n",
       "       {'feature_pair': ('Glucose (serum)', 'BUN'), 'lag': 3, 'dominant_term': 'U1', 'R_value': np.float64(0.05629485710514498), 'U1_value': np.float64(0.10806447159998525), 'U2_value': np.float64(4.7809498077006425e-09), 'S_value': np.float64(0.05292477174384008), 'MI_value': np.float64(0.21728410522992014)},\n",
       "       {'feature_pair': ('Glucose (serum)', 'BUN'), 'lag': 4, 'dominant_term': 'U1', 'R_value': np.float64(0.017933883570848047), 'U1_value': np.float64(0.10299319167667798), 'U2_value': np.float64(2.7667446468673398e-09), 'S_value': np.float64(0.04625269989048786), 'MI_value': np.float64(0.16717977790475824)},\n",
       "       {'feature_pair': ('Glucose (serum)', 'BUN'), 'lag': 5, 'dominant_term': 'U1', 'R_value': np.float64(0.0016160399336716536), 'U1_value': np.float64(0.0844416388036617), 'U2_value': np.float64(2.365852047666954e-09), 'S_value': np.float64(0.05415596265770771), 'MI_value': np.float64(0.14021364376089335)},\n",
       "       {'feature_pair': ('Glucose (serum)', 'BUN'), 'lag': 6, 'dominant_term': 'U1', 'R_value': np.float64(0.009469993624879595), 'U1_value': np.float64(0.0493637844648812), 'U2_value': np.float64(1.5704109813547512e-09), 'S_value': np.float64(0.07880879078119829), 'MI_value': np.float64(0.13764257044136988)}],\n",
       "      dtype=object)"
      ]
     },
     "execution_count": 23,
     "metadata": {},
     "output_type": "execute_result"
    }
   ],
   "source": [
    "mimiciv_rus_results[66:72]"
   ]
  },
  {
   "cell_type": "code",
   "execution_count": 24,
   "metadata": {},
   "outputs": [
    {
     "data": {
      "text/plain": [
       "array([{'feature_pair': ('Potassium (serum)', 'Magnesium'), 'lag': 1, 'dominant_term': 'R', 'R_value': np.float64(0.14566981568983284), 'U1_value': np.float64(0.2384603368458455), 'U2_value': np.float64(0.02188103973394488), 'S_value': np.float64(1.1515392750460762e-08), 'MI_value': np.float64(0.4060112037850161)},\n",
       "       {'feature_pair': ('Potassium (serum)', 'Magnesium'), 'lag': 2, 'dominant_term': 'R', 'R_value': np.float64(0.12053520421216612), 'U1_value': np.float64(0.13564128561137598), 'U2_value': np.float64(0.04464282920489354), 'S_value': np.float64(1.9791749295006156e-08), 'MI_value': np.float64(0.3008193388201848)},\n",
       "       {'feature_pair': ('Potassium (serum)', 'Magnesium'), 'lag': 3, 'dominant_term': 'R', 'R_value': np.float64(0.0942335120980285), 'U1_value': np.float64(0.06671127012666223), 'U2_value': np.float64(0.06842012144641364), 'S_value': np.float64(1.2658766368467411e-08), 'MI_value': np.float64(0.22936491632987105)},\n",
       "       {'feature_pair': ('Potassium (serum)', 'Magnesium'), 'lag': 4, 'dominant_term': 'R', 'R_value': np.float64(0.06657683815943802), 'U1_value': np.float64(0.023232847973352132), 'U2_value': np.float64(0.0933911355454405), 'S_value': np.float64(1.035200511423362e-08), 'MI_value': np.float64(0.18320083203023577)},\n",
       "       {'feature_pair': ('Potassium (serum)', 'Magnesium'), 'lag': 5, 'dominant_term': 'U2', 'R_value': np.float64(0.03731238923081953), 'U1_value': np.float64(0.0022809793485251617), 'U2_value': np.float64(0.11979826664939351), 'S_value': np.float64(1.7797330664759414e-08), 'MI_value': np.float64(0.15939165302606909)},\n",
       "       {'feature_pair': ('Potassium (serum)', 'Magnesium'), 'lag': 6, 'dominant_term': 'U2', 'R_value': np.float64(0.009431263748042207), 'U1_value': np.float64(2.204552916197401e-10), 'U2_value': np.float64(0.14463927264981805), 'S_value': np.float64(0.0033430632383825154), 'MI_value': np.float64(0.15741359985669817)}],\n",
       "      dtype=object)"
      ]
     },
     "execution_count": 24,
     "metadata": {},
     "output_type": "execute_result"
    }
   ],
   "source": [
    "mimiciv_rus_results[72:78]"
   ]
  },
  {
   "cell_type": "code",
   "execution_count": 25,
   "metadata": {},
   "outputs": [
    {
     "data": {
      "text/plain": [
       "array([{'feature_pair': ('Potassium (serum)', 'BUN'), 'lag': 1, 'dominant_term': 'R', 'R_value': np.float64(0.20796566577948378), 'U1_value': np.float64(0.17616448941809593), 'U2_value': np.float64(2.3106495511497717e-10), 'S_value': np.float64(0.008484389902555955), 'MI_value': np.float64(0.3926145453312005)},\n",
       "       {'feature_pair': ('Potassium (serum)', 'BUN'), 'lag': 2, 'dominant_term': 'R', 'R_value': np.float64(0.11774767422499277), 'U1_value': np.float64(0.1384288154264121), 'U2_value': np.float64(2.477871306383441e-10), 'S_value': np.float64(0.018298370005465636), 'MI_value': np.float64(0.2744748599046575)},\n",
       "       {'feature_pair': ('Potassium (serum)', 'BUN'), 'lag': 3, 'dominant_term': 'U1', 'R_value': np.float64(0.056294858788180996), 'U1_value': np.float64(0.1046499243930305), 'U2_value': np.float64(3.666990342535475e-10), 'S_value': np.float64(0.029813619207289865), 'MI_value': np.float64(0.19075840275520012)},\n",
       "       {'feature_pair': ('Potassium (serum)', 'BUN'), 'lag': 4, 'dominant_term': 'U1', 'R_value': np.float64(0.01793388448705331), 'U1_value': np.float64(0.07187580335379613), 'U2_value': np.float64(3.419521910548865e-10), 'S_value': np.float64(0.04361500083380224), 'MI_value': np.float64(0.13342468901660381)},\n",
       "       {'feature_pair': ('Potassium (serum)', 'BUN'), 'lag': 5, 'dominant_term': 'U1', 'R_value': np.float64(0.0016160411514933928), 'U1_value': np.float64(0.03797733159617825), 'U2_value': np.float64(4.272141996534248e-10), 'S_value': np.float64(0.060749835934570666), 'MI_value': np.float64(0.10034320910945663)},\n",
       "       {'feature_pair': ('Potassium (serum)', 'BUN'), 'lag': 6, 'dominant_term': 'S', 'R_value': np.float64(0.004451459467837159), 'U1_value': np.float64(0.0049798105495956445), 'U2_value': np.float64(0.005018534904840165), 'S_value': np.float64(0.07857898082923491), 'MI_value': np.float64(0.09302878575150828)}],\n",
       "      dtype=object)"
      ]
     },
     "execution_count": 25,
     "metadata": {},
     "output_type": "execute_result"
    }
   ],
   "source": [
    "mimiciv_rus_results[78:84]"
   ]
  },
  {
   "cell_type": "code",
   "execution_count": 26,
   "metadata": {},
   "outputs": [
    {
     "data": {
      "text/plain": [
       "array([{'feature_pair': ('Magnesium', 'BUN'), 'lag': 1, 'dominant_term': 'R', 'R_value': np.float64(0.13431971290380945), 'U1_value': np.float64(0.03323113897527597), 'U2_value': np.float64(0.07364595067830015), 'S_value': np.float64(0.16629867432997042), 'MI_value': np.float64(0.407495476887356)},\n",
       "       {'feature_pair': ('Magnesium', 'BUN'), 'lag': 2, 'dominant_term': 'R', 'R_value': np.float64(0.09557229993579464), 'U1_value': np.float64(0.06960574135445573), 'U2_value': np.float64(0.02217537289051266), 'S_value': np.float64(0.11687966843326358), 'MI_value': np.float64(0.3042330826140268)},\n",
       "       {'feature_pair': ('Magnesium', 'BUN'), 'lag': 3, 'dominant_term': 'U1', 'R_value': np.float64(0.05298357252373628), 'U1_value': np.float64(0.1096700699816697), 'U2_value': np.float64(0.0033112862732268497), 'S_value': np.float64(0.06940397968369316), 'MI_value': np.float64(0.23536890846232583)},\n",
       "       {'feature_pair': ('Magnesium', 'BUN'), 'lag': 4, 'dominant_term': 'U1', 'R_value': np.float64(0.01793388424015127), 'U1_value': np.float64(0.1420341035376089), 'U2_value': np.float64(4.3344892322664714e-10), 'S_value': np.float64(0.032875985007076225), 'MI_value': np.float64(0.1928439732182857)},\n",
       "       {'feature_pair': ('Magnesium', 'BUN'), 'lag': 5, 'dominant_term': 'U1', 'R_value': np.float64(0.0016160408328784182), 'U1_value': np.float64(0.15549464554989204), 'U2_value': np.float64(2.86810944730498e-10), 'S_value': np.float64(0.017406887844716362), 'MI_value': np.float64(0.17451757451429772)},\n",
       "       {'feature_pair': ('Magnesium', 'BUN'), 'lag': 6, 'dominant_term': 'U1', 'R_value': np.float64(0.009469994823146005), 'U1_value': np.float64(0.14460056175889477), 'U2_value': np.float64(4.3961071150730356e-10), 'S_value': np.float64(0.02784312350052842), 'MI_value': np.float64(0.18191368052218015)}],\n",
       "      dtype=object)"
      ]
     },
     "execution_count": 26,
     "metadata": {},
     "output_type": "execute_result"
    }
   ],
   "source": [
    "mimiciv_rus_results[84:90]"
   ]
  },
  {
   "cell_type": "code",
   "execution_count": null,
   "metadata": {},
   "outputs": [],
   "source": []
  }
 ],
 "metadata": {
  "kernelspec": {
   "display_name": ".venv",
   "language": "python",
   "name": "python3"
  },
  "language_info": {
   "codemirror_mode": {
    "name": "ipython",
    "version": 3
   },
   "file_extension": ".py",
   "mimetype": "text/x-python",
   "name": "python",
   "nbconvert_exporter": "python",
   "pygments_lexer": "ipython3",
   "version": "3.12.1"
  }
 },
 "nbformat": 4,
 "nbformat_minor": 2
}
